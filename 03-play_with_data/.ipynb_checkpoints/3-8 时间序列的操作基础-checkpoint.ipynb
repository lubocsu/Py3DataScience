{
 "cells": [
  {
   "cell_type": "code",
   "execution_count": 1,
   "metadata": {
    "collapsed": true
   },
   "outputs": [],
   "source": [
    "import numpy as np\n",
    "import pandas as pd\n",
    "from pandas import Series, DataFrame"
   ]
  },
  {
   "cell_type": "code",
   "execution_count": 2,
   "metadata": {
    "collapsed": true
   },
   "outputs": [],
   "source": [
    "from datetime import datetime\n",
    "t1 = datetime(2009,10,20)"
   ]
  },
  {
   "cell_type": "markdown",
   "metadata": {},
   "source": [
    "参数说明\n",
    "\n",
    "```\n",
    "datetime(year, month, day[, hour[, minute[, second[, microsecond[,tzinfo]]]]])\n",
    "```"
   ]
  },
  {
   "cell_type": "code",
   "execution_count": 3,
   "metadata": {},
   "outputs": [
    {
     "data": {
      "text/plain": [
       "datetime.datetime(2009, 10, 20, 0, 0)"
      ]
     },
     "execution_count": 3,
     "metadata": {},
     "output_type": "execute_result"
    }
   ],
   "source": [
    "t1"
   ]
  },
  {
   "cell_type": "code",
   "execution_count": 4,
   "metadata": {},
   "outputs": [
    {
     "data": {
      "text/plain": [
       "[datetime.datetime(2016, 9, 1, 0, 0),\n",
       " datetime.datetime(2016, 9, 10, 0, 0),\n",
       " datetime.datetime(2017, 9, 1, 0, 0),\n",
       " datetime.datetime(2017, 9, 20, 0, 0),\n",
       " datetime.datetime(2017, 10, 1, 0, 0)]"
      ]
     },
     "execution_count": 4,
     "metadata": {},
     "output_type": "execute_result"
    }
   ],
   "source": [
    "date_list = [\n",
    "    datetime(2016,9,1),\n",
    "    datetime(2016,9,10),\n",
    "    datetime(2017,9,1),\n",
    "    datetime(2017,9,20),\n",
    "    datetime(2017,10,1)\n",
    "]\n",
    "date_list"
   ]
  },
  {
   "cell_type": "code",
   "execution_count": 5,
   "metadata": {
    "collapsed": true
   },
   "outputs": [],
   "source": [
    "s1 = Series(np.random.rand(5), index=date_list)"
   ]
  },
  {
   "cell_type": "code",
   "execution_count": 6,
   "metadata": {},
   "outputs": [
    {
     "data": {
      "text/plain": [
       "2016-09-01    0.570306\n",
       "2016-09-10    0.682555\n",
       "2017-09-01    0.136793\n",
       "2017-09-20    0.760197\n",
       "2017-10-01    0.463064\n",
       "dtype: float64"
      ]
     },
     "execution_count": 6,
     "metadata": {},
     "output_type": "execute_result"
    }
   ],
   "source": [
    "s1"
   ]
  },
  {
   "cell_type": "code",
   "execution_count": 7,
   "metadata": {},
   "outputs": [
    {
     "data": {
      "text/plain": [
       "array([ 0.57030551,  0.68255531,  0.13679292,  0.76019676,  0.46306365])"
      ]
     },
     "execution_count": 7,
     "metadata": {},
     "output_type": "execute_result"
    }
   ],
   "source": [
    "s1.values"
   ]
  },
  {
   "cell_type": "code",
   "execution_count": 8,
   "metadata": {},
   "outputs": [
    {
     "data": {
      "text/plain": [
       "DatetimeIndex(['2016-09-01', '2016-09-10', '2017-09-01', '2017-09-20',\n",
       "               '2017-10-01'],\n",
       "              dtype='datetime64[ns]', freq=None)"
      ]
     },
     "execution_count": 8,
     "metadata": {},
     "output_type": "execute_result"
    }
   ],
   "source": [
    "s1.index"
   ]
  },
  {
   "cell_type": "code",
   "execution_count": 9,
   "metadata": {},
   "outputs": [
    {
     "data": {
      "text/plain": [
       "0.68255530834699529"
      ]
     },
     "execution_count": 9,
     "metadata": {},
     "output_type": "execute_result"
    }
   ],
   "source": [
    "s1[1]"
   ]
  },
  {
   "cell_type": "markdown",
   "metadata": {},
   "source": [
    "通过index的位置信息进行了访问"
   ]
  },
  {
   "cell_type": "code",
   "execution_count": 10,
   "metadata": {},
   "outputs": [
    {
     "data": {
      "text/plain": [
       "0.68255530834699529"
      ]
     },
     "execution_count": 10,
     "metadata": {},
     "output_type": "execute_result"
    }
   ],
   "source": [
    "s1[datetime(2016,9,10)]"
   ]
  },
  {
   "cell_type": "markdown",
   "metadata": {},
   "source": [
    "通过s1，传入datetime的对象进行访问"
   ]
  },
  {
   "cell_type": "code",
   "execution_count": 11,
   "metadata": {},
   "outputs": [
    {
     "data": {
      "text/plain": [
       "0.68255530834699529"
      ]
     },
     "execution_count": 11,
     "metadata": {},
     "output_type": "execute_result"
    }
   ],
   "source": [
    "s1['2016-9-10']"
   ]
  },
  {
   "cell_type": "markdown",
   "metadata": {},
   "source": [
    "直接传入时间字符串进行访问"
   ]
  },
  {
   "cell_type": "code",
   "execution_count": 12,
   "metadata": {},
   "outputs": [
    {
     "data": {
      "text/plain": [
       "0.68255530834699529"
      ]
     },
     "execution_count": 12,
     "metadata": {},
     "output_type": "execute_result"
    }
   ],
   "source": [
    "s1['20160910']"
   ]
  },
  {
   "cell_type": "markdown",
   "metadata": {},
   "source": [
    "直接传入时间字符串数值进行访问"
   ]
  },
  {
   "cell_type": "code",
   "execution_count": 13,
   "metadata": {},
   "outputs": [
    {
     "data": {
      "text/plain": [
       "2017-09-01    0.136793\n",
       "2017-09-20    0.760197\n",
       "dtype: float64"
      ]
     },
     "execution_count": 13,
     "metadata": {},
     "output_type": "execute_result"
    }
   ],
   "source": [
    "s1['2017-09']"
   ]
  },
  {
   "cell_type": "markdown",
   "metadata": {},
   "source": [
    "只填入年份和日期。返回2017-09的数据"
   ]
  },
  {
   "cell_type": "code",
   "execution_count": 14,
   "metadata": {
    "scrolled": true
   },
   "outputs": [
    {
     "data": {
      "text/plain": [
       "2016-09-01    0.570306\n",
       "2016-09-10    0.682555\n",
       "dtype: float64"
      ]
     },
     "execution_count": 14,
     "metadata": {},
     "output_type": "execute_result"
    }
   ],
   "source": [
    "s1['2016']"
   ]
  },
  {
   "cell_type": "markdown",
   "metadata": {},
   "source": [
    "只填入年份，返回2016年以内的数据"
   ]
  },
  {
   "cell_type": "code",
   "execution_count": 15,
   "metadata": {},
   "outputs": [
    {
     "data": {
      "text/plain": [
       "2017-09-01    0.136793\n",
       "2017-09-20    0.760197\n",
       "2017-10-01    0.463064\n",
       "dtype: float64"
      ]
     },
     "execution_count": 15,
     "metadata": {},
     "output_type": "execute_result"
    }
   ],
   "source": [
    "s1['2017']"
   ]
  },
  {
   "cell_type": "markdown",
   "metadata": {},
   "source": [
    "只填入年份，返回2017年以内的数据"
   ]
  },
  {
   "cell_type": "code",
   "execution_count": 16,
   "metadata": {
    "scrolled": true
   },
   "outputs": [
    {
     "data": {
      "text/plain": [
       "2016-09-01    0.570306\n",
       "2016-09-10    0.682555\n",
       "2017-09-01    0.136793\n",
       "2017-09-20    0.760197\n",
       "2017-10-01    0.463064\n",
       "dtype: float64"
      ]
     },
     "execution_count": 16,
     "metadata": {},
     "output_type": "execute_result"
    }
   ],
   "source": [
    "s1"
   ]
  },
  {
   "cell_type": "markdown",
   "metadata": {},
   "source": [
    "#### pandas提供的产生时间范围数据的方法\n",
    "\n",
    "```\n",
    " pd.date_range(start=None, end=None, periods=None, freq='D', tz=None, normalize=False, name=None, closed=None, **kwargs)\n",
    "```\n",
    "\n",
    "- 时间的起点和终点，periods生成多少个。\n",
    "\n",
    ">互斥关系，要么填入start end。要么填入start和periods。或者end和periods\n",
    "\n",
    "- freq 步长是多长，几小时呢，还是几天"
   ]
  },
  {
   "cell_type": "code",
   "execution_count": 17,
   "metadata": {
    "collapsed": true
   },
   "outputs": [],
   "source": [
    "date_list_new = pd.date_range('2016-01-01', periods=100, freq='5H')"
   ]
  },
  {
   "cell_type": "markdown",
   "metadata": {},
   "source": [
    "frep选择为W的时候，默认一周会从周日开始，将选择与2016-01-01最近的周日作为起点\n",
    "\n",
    "想让一周不要从周日开始:\n",
    "\n",
    "`freq='w-MON` 从周一开始，找到最近的周一 01-04"
   ]
  },
  {
   "cell_type": "code",
   "execution_count": 18,
   "metadata": {
    "collapsed": true
   },
   "outputs": [],
   "source": [
    "s2 = Series(np.random.rand(100), index=date_list_new)"
   ]
  },
  {
   "cell_type": "code",
   "execution_count": 19,
   "metadata": {},
   "outputs": [
    {
     "data": {
      "text/plain": [
       "2016-01-01 00:00:00    0.226664\n",
       "2016-01-01 05:00:00    0.800711\n",
       "2016-01-01 10:00:00    0.045228\n",
       "2016-01-01 15:00:00    0.209912\n",
       "2016-01-01 20:00:00    0.460459\n",
       "2016-01-02 01:00:00    0.204445\n",
       "2016-01-02 06:00:00    0.723941\n",
       "2016-01-02 11:00:00    0.837326\n",
       "2016-01-02 16:00:00    0.558058\n",
       "2016-01-02 21:00:00    0.820490\n",
       "2016-01-03 02:00:00    0.180357\n",
       "2016-01-03 07:00:00    0.238946\n",
       "2016-01-03 12:00:00    0.342356\n",
       "2016-01-03 17:00:00    0.881179\n",
       "2016-01-03 22:00:00    0.558335\n",
       "2016-01-04 03:00:00    0.436609\n",
       "2016-01-04 08:00:00    0.517858\n",
       "2016-01-04 13:00:00    0.174712\n",
       "2016-01-04 18:00:00    0.022106\n",
       "2016-01-04 23:00:00    0.862870\n",
       "2016-01-05 04:00:00    0.506632\n",
       "2016-01-05 09:00:00    0.171446\n",
       "2016-01-05 14:00:00    0.680874\n",
       "2016-01-05 19:00:00    0.285800\n",
       "2016-01-06 00:00:00    0.878029\n",
       "2016-01-06 05:00:00    0.009884\n",
       "2016-01-06 10:00:00    0.188025\n",
       "2016-01-06 15:00:00    0.635290\n",
       "2016-01-06 20:00:00    0.385482\n",
       "2016-01-07 01:00:00    0.321640\n",
       "                         ...   \n",
       "2016-01-15 14:00:00    0.028198\n",
       "2016-01-15 19:00:00    0.300020\n",
       "2016-01-16 00:00:00    0.843687\n",
       "2016-01-16 05:00:00    0.632906\n",
       "2016-01-16 10:00:00    0.110690\n",
       "2016-01-16 15:00:00    0.105964\n",
       "2016-01-16 20:00:00    0.997264\n",
       "2016-01-17 01:00:00    0.131473\n",
       "2016-01-17 06:00:00    0.707461\n",
       "2016-01-17 11:00:00    0.078310\n",
       "2016-01-17 16:00:00    0.046191\n",
       "2016-01-17 21:00:00    0.201336\n",
       "2016-01-18 02:00:00    0.867347\n",
       "2016-01-18 07:00:00    0.307226\n",
       "2016-01-18 12:00:00    0.635375\n",
       "2016-01-18 17:00:00    0.499308\n",
       "2016-01-18 22:00:00    0.426680\n",
       "2016-01-19 03:00:00    0.919580\n",
       "2016-01-19 08:00:00    0.561417\n",
       "2016-01-19 13:00:00    0.225150\n",
       "2016-01-19 18:00:00    0.599861\n",
       "2016-01-19 23:00:00    0.601195\n",
       "2016-01-20 04:00:00    0.566473\n",
       "2016-01-20 09:00:00    0.688219\n",
       "2016-01-20 14:00:00    0.697315\n",
       "2016-01-20 19:00:00    0.065999\n",
       "2016-01-21 00:00:00    0.906859\n",
       "2016-01-21 05:00:00    0.080869\n",
       "2016-01-21 10:00:00    0.388133\n",
       "2016-01-21 15:00:00    0.680833\n",
       "Freq: 5H, Length: 100, dtype: float64"
      ]
     },
     "execution_count": 19,
     "metadata": {},
     "output_type": "execute_result"
    }
   ],
   "source": [
    "s2"
   ]
  }
 ],
 "metadata": {
  "kernelspec": {
   "display_name": "Python 3",
   "language": "python",
   "name": "python3"
  },
  "language_info": {
   "codemirror_mode": {
    "name": "ipython",
    "version": 3
   },
   "file_extension": ".py",
   "mimetype": "text/x-python",
   "name": "python",
   "nbconvert_exporter": "python",
   "pygments_lexer": "ipython3",
   "version": "3.6.3"
  }
 },
 "nbformat": 4,
 "nbformat_minor": 2
}
