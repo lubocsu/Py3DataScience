{
 "cells": [
  {
   "cell_type": "code",
   "execution_count": 1,
   "metadata": {
    "collapsed": true
   },
   "outputs": [],
   "source": [
    "import numpy as np\n",
    "import pandas as pd\n",
    "from pandas import Series, DataFrame"
   ]
  },
  {
   "cell_type": "code",
   "execution_count": 2,
   "metadata": {
    "collapsed": true
   },
   "outputs": [],
   "source": [
    "t_range = pd.date_range('2016-01-01', '2016-12-31')"
   ]
  },
  {
   "cell_type": "code",
   "execution_count": 3,
   "metadata": {},
   "outputs": [
    {
     "data": {
      "text/plain": [
       "DatetimeIndex(['2016-01-01', '2016-01-02', '2016-01-03', '2016-01-04',\n",
       "               '2016-01-05', '2016-01-06', '2016-01-07', '2016-01-08',\n",
       "               '2016-01-09', '2016-01-10',\n",
       "               ...\n",
       "               '2016-12-22', '2016-12-23', '2016-12-24', '2016-12-25',\n",
       "               '2016-12-26', '2016-12-27', '2016-12-28', '2016-12-29',\n",
       "               '2016-12-30', '2016-12-31'],\n",
       "              dtype='datetime64[ns]', length=366, freq='D')"
      ]
     },
     "execution_count": 3,
     "metadata": {},
     "output_type": "execute_result"
    }
   ],
   "source": [
    "t_range"
   ]
  },
  {
   "cell_type": "markdown",
   "metadata": {},
   "source": [
    "如何对于一年的数据进行采样"
   ]
  },
  {
   "cell_type": "code",
   "execution_count": 4,
   "metadata": {
    "scrolled": false
   },
   "outputs": [
    {
     "data": {
      "text/plain": [
       "2016-01-01    0.616404\n",
       "2016-01-02   -1.671096\n",
       "2016-01-03   -1.019273\n",
       "2016-01-04   -2.058814\n",
       "2016-01-05    0.677652\n",
       "Freq: D, dtype: float64"
      ]
     },
     "execution_count": 4,
     "metadata": {},
     "output_type": "execute_result"
    }
   ],
   "source": [
    "s1 = Series(np.random.randn(len(t_range)), index=t_range)\n",
    "s1.head()"
   ]
  },
  {
   "cell_type": "markdown",
   "metadata": {},
   "source": [
    "将366天的数据变为每月一个的数据"
   ]
  },
  {
   "cell_type": "code",
   "execution_count": 5,
   "metadata": {},
   "outputs": [
    {
     "data": {
      "text/plain": [
       "-0.15706251895218226"
      ]
     },
     "execution_count": 5,
     "metadata": {},
     "output_type": "execute_result"
    }
   ],
   "source": [
    "s1['2016-01'].mean()"
   ]
  },
  {
   "cell_type": "markdown",
   "metadata": {},
   "source": [
    "算出一月份数据的平均值来代替一月份的这些数据\n",
    "\n",
    ">对于数据按月份来进行采样，可以使用resample方法"
   ]
  },
  {
   "cell_type": "code",
   "execution_count": 6,
   "metadata": {},
   "outputs": [
    {
     "data": {
      "text/plain": [
       "2016-01-31   -0.157063\n",
       "2016-02-29   -0.120037\n",
       "2016-03-31    0.564164\n",
       "2016-04-30    0.013252\n",
       "2016-05-31    0.357117\n",
       "2016-06-30    0.106408\n",
       "2016-07-31    0.254165\n",
       "2016-08-31    0.105338\n",
       "2016-09-30    0.212510\n",
       "2016-10-31    0.019801\n",
       "2016-11-30   -0.205516\n",
       "2016-12-31    0.575381\n",
       "Freq: M, dtype: float64"
      ]
     },
     "execution_count": 6,
     "metadata": {},
     "output_type": "execute_result"
    }
   ],
   "source": [
    "s1_month = s1.resample('M').mean()\n",
    "s1_month"
   ]
  },
  {
   "cell_type": "code",
   "execution_count": 7,
   "metadata": {
    "scrolled": true
   },
   "outputs": [
    {
     "data": {
      "text/plain": [
       "DatetimeIndex(['2016-01-31', '2016-02-29', '2016-03-31', '2016-04-30',\n",
       "               '2016-05-31', '2016-06-30', '2016-07-31', '2016-08-31',\n",
       "               '2016-09-30', '2016-10-31', '2016-11-30', '2016-12-31'],\n",
       "              dtype='datetime64[ns]', freq='M')"
      ]
     },
     "execution_count": 7,
     "metadata": {},
     "output_type": "execute_result"
    }
   ],
   "source": [
    "s1_month.index"
   ]
  },
  {
   "cell_type": "markdown",
   "metadata": {},
   "source": [
    "上面的操作时我们将s1的数据采样从每天变成了每月，采样率变低了。\n",
    "\n",
    "- 当然我们也可以通过提高采样率，让数据变多\n",
    "\n",
    "但是数据如何填充:\n",
    "\n",
    "- ffill() forward fill 通过一月1号数据来填充一月一号每小时的数据。\n",
    "- bfill() 一月一号之后的数据都是通过1月2号来填充的。"
   ]
  },
  {
   "cell_type": "code",
   "execution_count": 8,
   "metadata": {},
   "outputs": [
    {
     "data": {
      "text/plain": [
       "2016-01-01 00:00:00    0.616404\n",
       "2016-01-01 01:00:00    0.616404\n",
       "2016-01-01 02:00:00    0.616404\n",
       "2016-01-01 03:00:00    0.616404\n",
       "2016-01-01 04:00:00    0.616404\n",
       "2016-01-01 05:00:00    0.616404\n",
       "2016-01-01 06:00:00    0.616404\n",
       "2016-01-01 07:00:00    0.616404\n",
       "2016-01-01 08:00:00    0.616404\n",
       "2016-01-01 09:00:00    0.616404\n",
       "2016-01-01 10:00:00    0.616404\n",
       "2016-01-01 11:00:00    0.616404\n",
       "2016-01-01 12:00:00    0.616404\n",
       "2016-01-01 13:00:00    0.616404\n",
       "2016-01-01 14:00:00    0.616404\n",
       "2016-01-01 15:00:00    0.616404\n",
       "2016-01-01 16:00:00    0.616404\n",
       "2016-01-01 17:00:00    0.616404\n",
       "2016-01-01 18:00:00    0.616404\n",
       "2016-01-01 19:00:00    0.616404\n",
       "2016-01-01 20:00:00    0.616404\n",
       "2016-01-01 21:00:00    0.616404\n",
       "2016-01-01 22:00:00    0.616404\n",
       "2016-01-01 23:00:00    0.616404\n",
       "2016-01-02 00:00:00   -1.671096\n",
       "2016-01-02 01:00:00   -1.671096\n",
       "2016-01-02 02:00:00   -1.671096\n",
       "2016-01-02 03:00:00   -1.671096\n",
       "2016-01-02 04:00:00   -1.671096\n",
       "2016-01-02 05:00:00   -1.671096\n",
       "                         ...   \n",
       "2016-12-29 19:00:00   -0.045964\n",
       "2016-12-29 20:00:00   -0.045964\n",
       "2016-12-29 21:00:00   -0.045964\n",
       "2016-12-29 22:00:00   -0.045964\n",
       "2016-12-29 23:00:00   -0.045964\n",
       "2016-12-30 00:00:00    0.897692\n",
       "2016-12-30 01:00:00    0.897692\n",
       "2016-12-30 02:00:00    0.897692\n",
       "2016-12-30 03:00:00    0.897692\n",
       "2016-12-30 04:00:00    0.897692\n",
       "2016-12-30 05:00:00    0.897692\n",
       "2016-12-30 06:00:00    0.897692\n",
       "2016-12-30 07:00:00    0.897692\n",
       "2016-12-30 08:00:00    0.897692\n",
       "2016-12-30 09:00:00    0.897692\n",
       "2016-12-30 10:00:00    0.897692\n",
       "2016-12-30 11:00:00    0.897692\n",
       "2016-12-30 12:00:00    0.897692\n",
       "2016-12-30 13:00:00    0.897692\n",
       "2016-12-30 14:00:00    0.897692\n",
       "2016-12-30 15:00:00    0.897692\n",
       "2016-12-30 16:00:00    0.897692\n",
       "2016-12-30 17:00:00    0.897692\n",
       "2016-12-30 18:00:00    0.897692\n",
       "2016-12-30 19:00:00    0.897692\n",
       "2016-12-30 20:00:00    0.897692\n",
       "2016-12-30 21:00:00    0.897692\n",
       "2016-12-30 22:00:00    0.897692\n",
       "2016-12-30 23:00:00    0.897692\n",
       "2016-12-31 00:00:00    0.316479\n",
       "Freq: H, Length: 8761, dtype: float64"
      ]
     },
     "execution_count": 8,
     "metadata": {},
     "output_type": "execute_result"
    }
   ],
   "source": [
    "s1.resample('H').ffill()"
   ]
  },
  {
   "cell_type": "markdown",
   "metadata": {},
   "source": [
    "时间序列的数据是非常适合画一个基于时间轴的图(股票数据)"
   ]
  },
  {
   "cell_type": "code",
   "execution_count": 9,
   "metadata": {
    "collapsed": true
   },
   "outputs": [],
   "source": [
    "t_range = pd.date_range('2016-01-01', '2016-12-31', freq='H')"
   ]
  },
  {
   "cell_type": "code",
   "execution_count": 10,
   "metadata": {},
   "outputs": [
    {
     "data": {
      "text/plain": [
       "DatetimeIndex(['2016-01-01 00:00:00', '2016-01-01 01:00:00',\n",
       "               '2016-01-01 02:00:00', '2016-01-01 03:00:00',\n",
       "               '2016-01-01 04:00:00', '2016-01-01 05:00:00',\n",
       "               '2016-01-01 06:00:00', '2016-01-01 07:00:00',\n",
       "               '2016-01-01 08:00:00', '2016-01-01 09:00:00',\n",
       "               ...\n",
       "               '2016-12-30 15:00:00', '2016-12-30 16:00:00',\n",
       "               '2016-12-30 17:00:00', '2016-12-30 18:00:00',\n",
       "               '2016-12-30 19:00:00', '2016-12-30 20:00:00',\n",
       "               '2016-12-30 21:00:00', '2016-12-30 22:00:00',\n",
       "               '2016-12-30 23:00:00', '2016-12-31 00:00:00'],\n",
       "              dtype='datetime64[ns]', length=8761, freq='H')"
      ]
     },
     "execution_count": 10,
     "metadata": {},
     "output_type": "execute_result"
    }
   ],
   "source": [
    "t_range"
   ]
  },
  {
   "cell_type": "code",
   "execution_count": 11,
   "metadata": {
    "collapsed": true
   },
   "outputs": [],
   "source": [
    "stock_df = DataFrame(index=t_range)\n",
    "# 创建一个空dataframe"
   ]
  },
  {
   "cell_type": "code",
   "execution_count": 12,
   "metadata": {
    "collapsed": true
   },
   "outputs": [],
   "source": [
    "stock_df['BABA'] = np.random.randint(80, 160, size=len(t_range))"
   ]
  },
  {
   "cell_type": "code",
   "execution_count": 13,
   "metadata": {
    "collapsed": true
   },
   "outputs": [],
   "source": [
    "stock_df['TENCENT'] = np.random.randint(30, 50, size=len(t_range))"
   ]
  },
  {
   "cell_type": "markdown",
   "metadata": {},
   "source": [
    "整数在价格范围内，随机产生"
   ]
  },
  {
   "cell_type": "code",
   "execution_count": 14,
   "metadata": {
    "scrolled": true
   },
   "outputs": [
    {
     "data": {
      "text/html": [
       "<div>\n",
       "<style>\n",
       "    .dataframe thead tr:only-child th {\n",
       "        text-align: right;\n",
       "    }\n",
       "\n",
       "    .dataframe thead th {\n",
       "        text-align: left;\n",
       "    }\n",
       "\n",
       "    .dataframe tbody tr th {\n",
       "        vertical-align: top;\n",
       "    }\n",
       "</style>\n",
       "<table border=\"1\" class=\"dataframe\">\n",
       "  <thead>\n",
       "    <tr style=\"text-align: right;\">\n",
       "      <th></th>\n",
       "      <th>BABA</th>\n",
       "      <th>TENCENT</th>\n",
       "    </tr>\n",
       "  </thead>\n",
       "  <tbody>\n",
       "    <tr>\n",
       "      <th>2016-01-01 00:00:00</th>\n",
       "      <td>141</td>\n",
       "      <td>35</td>\n",
       "    </tr>\n",
       "    <tr>\n",
       "      <th>2016-01-01 01:00:00</th>\n",
       "      <td>106</td>\n",
       "      <td>42</td>\n",
       "    </tr>\n",
       "    <tr>\n",
       "      <th>2016-01-01 02:00:00</th>\n",
       "      <td>99</td>\n",
       "      <td>46</td>\n",
       "    </tr>\n",
       "    <tr>\n",
       "      <th>2016-01-01 03:00:00</th>\n",
       "      <td>96</td>\n",
       "      <td>47</td>\n",
       "    </tr>\n",
       "    <tr>\n",
       "      <th>2016-01-01 04:00:00</th>\n",
       "      <td>106</td>\n",
       "      <td>36</td>\n",
       "    </tr>\n",
       "  </tbody>\n",
       "</table>\n",
       "</div>"
      ],
      "text/plain": [
       "                     BABA  TENCENT\n",
       "2016-01-01 00:00:00   141       35\n",
       "2016-01-01 01:00:00   106       42\n",
       "2016-01-01 02:00:00    99       46\n",
       "2016-01-01 03:00:00    96       47\n",
       "2016-01-01 04:00:00   106       36"
      ]
     },
     "execution_count": 14,
     "metadata": {},
     "output_type": "execute_result"
    }
   ],
   "source": [
    "stock_df.head()"
   ]
  },
  {
   "cell_type": "markdown",
   "metadata": {},
   "source": [
    "plot()通过plot方法创建一个图"
   ]
  },
  {
   "cell_type": "code",
   "execution_count": 15,
   "metadata": {},
   "outputs": [
    {
     "data": {
      "text/plain": [
       "<matplotlib.axes._subplots.AxesSubplot at 0x2354b90a8d0>"
      ]
     },
     "execution_count": 15,
     "metadata": {},
     "output_type": "execute_result"
    }
   ],
   "source": [
    "stock_df.plot()"
   ]
  },
  {
   "cell_type": "code",
   "execution_count": 16,
   "metadata": {},
   "outputs": [
    {
     "data": {
      "image/png": "[encoded data removed]",
      "text/plain": [
       "<matplotlib.figure.Figure at 0x23549b53cc0>"
      ]
     },
     "metadata": {},
     "output_type": "display_data"
    }
   ],
   "source": [
    "import matplotlib.pyplot as plt\n",
    "plt.show()"
   ]
  },
  {
   "cell_type": "markdown",
   "metadata": {},
   "source": [
    "进行采样，使得变成每周"
   ]
  },
  {
   "cell_type": "code",
   "execution_count": 17,
   "metadata": {
    "collapsed": true
   },
   "outputs": [],
   "source": [
    "weekly_df = DataFrame()"
   ]
  },
  {
   "cell_type": "code",
   "execution_count": 18,
   "metadata": {
    "collapsed": true
   },
   "outputs": [],
   "source": [
    "weekly_df['BABA'] = stock_df['BABA'].resample('W').mean()"
   ]
  },
  {
   "cell_type": "code",
   "execution_count": 19,
   "metadata": {
    "collapsed": true
   },
   "outputs": [],
   "source": [
    "weekly_df['TENCENT'] = stock_df['TENCENT'].resample('W').mean()"
   ]
  },
  {
   "cell_type": "code",
   "execution_count": 20,
   "metadata": {},
   "outputs": [
    {
     "data": {
      "text/html": [
       "<div>\n",
       "<style>\n",
       "    .dataframe thead tr:only-child th {\n",
       "        text-align: right;\n",
       "    }\n",
       "\n",
       "    .dataframe thead th {\n",
       "        text-align: left;\n",
       "    }\n",
       "\n",
       "    .dataframe tbody tr th {\n",
       "        vertical-align: top;\n",
       "    }\n",
       "</style>\n",
       "<table border=\"1\" class=\"dataframe\">\n",
       "  <thead>\n",
       "    <tr style=\"text-align: right;\">\n",
       "      <th></th>\n",
       "      <th>BABA</th>\n",
       "      <th>TENCENT</th>\n",
       "    </tr>\n",
       "  </thead>\n",
       "  <tbody>\n",
       "    <tr>\n",
       "      <th>2016-01-03</th>\n",
       "      <td>118.875000</td>\n",
       "      <td>40.263889</td>\n",
       "    </tr>\n",
       "    <tr>\n",
       "      <th>2016-01-10</th>\n",
       "      <td>118.857143</td>\n",
       "      <td>38.720238</td>\n",
       "    </tr>\n",
       "    <tr>\n",
       "      <th>2016-01-17</th>\n",
       "      <td>120.011905</td>\n",
       "      <td>39.196429</td>\n",
       "    </tr>\n",
       "    <tr>\n",
       "      <th>2016-01-24</th>\n",
       "      <td>120.309524</td>\n",
       "      <td>39.738095</td>\n",
       "    </tr>\n",
       "    <tr>\n",
       "      <th>2016-01-31</th>\n",
       "      <td>119.285714</td>\n",
       "      <td>39.773810</td>\n",
       "    </tr>\n",
       "  </tbody>\n",
       "</table>\n",
       "</div>"
      ],
      "text/plain": [
       "                  BABA    TENCENT\n",
       "2016-01-03  118.875000  40.263889\n",
       "2016-01-10  118.857143  38.720238\n",
       "2016-01-17  120.011905  39.196429\n",
       "2016-01-24  120.309524  39.738095\n",
       "2016-01-31  119.285714  39.773810"
      ]
     },
     "execution_count": 20,
     "metadata": {},
     "output_type": "execute_result"
    }
   ],
   "source": [
    "weekly_df.head()"
   ]
  },
  {
   "cell_type": "code",
   "execution_count": 21,
   "metadata": {},
   "outputs": [
    {
     "data": {
      "text/plain": [
       "<matplotlib.axes._subplots.AxesSubplot at 0x2354bff5128>"
      ]
     },
     "execution_count": 21,
     "metadata": {},
     "output_type": "execute_result"
    }
   ],
   "source": [
    "weekly_df.plot()"
   ]
  },
  {
   "cell_type": "code",
   "execution_count": 22,
   "metadata": {},
   "outputs": [
    {
     "data": {
      "image/png": "[encoded data removed]",
      "text/plain": [
       "<matplotlib.figure.Figure at 0x2354b06f198>"
      ]
     },
     "metadata": {},
     "output_type": "display_data"
    }
   ],
   "source": [
    "plt.show()"
   ]
  }
 ],
 "metadata": {
  "kernelspec": {
   "display_name": "Python 3",
   "language": "python",
   "name": "python3"
  },
  "language_info": {
   "codemirror_mode": {
    "name": "ipython",
    "version": 3
   },
   "file_extension": ".py",
   "mimetype": "text/x-python",
   "name": "python",
   "nbconvert_exporter": "python",
   "pygments_lexer": "ipython3",
   "version": "3.6.3"
  }
 },
 "nbformat": 4,
 "nbformat_minor": 2
}
