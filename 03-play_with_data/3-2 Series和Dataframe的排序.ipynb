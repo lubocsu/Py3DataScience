{
 "cells": [
  {
   "cell_type": "code",
   "execution_count": 1,
   "metadata": {
    "collapsed": true
   },
   "outputs": [],
   "source": [
    "import numpy as np\n",
    "import pandas as pd\n",
    "from pandas import Series, DataFrame"
   ]
  },
  {
   "cell_type": "markdown",
   "metadata": {},
   "source": [
    "### series的排序"
   ]
  },
  {
   "cell_type": "code",
   "execution_count": 2,
   "metadata": {},
   "outputs": [
    {
     "data": {
      "text/plain": [
       "0    0.020631\n",
       "1   -0.234714\n",
       "2    0.679499\n",
       "3   -0.808561\n",
       "4   -0.842690\n",
       "5   -0.748893\n",
       "6    1.340362\n",
       "7   -0.288394\n",
       "8    0.398657\n",
       "9    0.611985\n",
       "dtype: float64"
      ]
     },
     "execution_count": 2,
     "metadata": {},
     "output_type": "execute_result"
    }
   ],
   "source": [
    "s1 = Series(np.random.randn(10))\n",
    "s1\n",
    "\n",
    "## 一个长度为10的随机的series"
   ]
  },
  {
   "cell_type": "markdown",
   "metadata": {},
   "source": [
    "series由两部分组成，一部分是它的value，一部分是它的index"
   ]
  },
  {
   "cell_type": "code",
   "execution_count": 3,
   "metadata": {},
   "outputs": [
    {
     "data": {
      "text/plain": [
       "array([ 0.02063115, -0.23471363,  0.67949852, -0.80856062, -0.84268971,\n",
       "       -0.74889266,  1.34036224, -0.28839405,  0.39865659,  0.61198501])"
      ]
     },
     "execution_count": 3,
     "metadata": {},
     "output_type": "execute_result"
    }
   ],
   "source": [
    "s1.values"
   ]
  },
  {
   "cell_type": "code",
   "execution_count": 4,
   "metadata": {},
   "outputs": [
    {
     "data": {
      "text/plain": [
       "RangeIndex(start=0, stop=10, step=1)"
      ]
     },
     "execution_count": 4,
     "metadata": {},
     "output_type": "execute_result"
    }
   ],
   "source": [
    "s1.index"
   ]
  },
  {
   "cell_type": "markdown",
   "metadata": {},
   "source": [
    "因此此时对于series的排序方式也就有两种。\n",
    "\n",
    "- 一种是按照index来排序。\n",
    "- 一种是按照values来排序"
   ]
  },
  {
   "cell_type": "markdown",
   "metadata": {},
   "source": [
    "```\n",
    "s1.sort_values(axis=0, ascending=True, inplace=False, kind='quicksort', na_position='last')\n",
    "```\n",
    "\n",
    "- ascending参数控制升序排序还是降序"
   ]
  },
  {
   "cell_type": "code",
   "execution_count": 5,
   "metadata": {},
   "outputs": [
    {
     "data": {
      "text/plain": [
       "4   -0.842690\n",
       "3   -0.808561\n",
       "5   -0.748893\n",
       "7   -0.288394\n",
       "1   -0.234714\n",
       "0    0.020631\n",
       "8    0.398657\n",
       "9    0.611985\n",
       "2    0.679499\n",
       "6    1.340362\n",
       "dtype: float64"
      ]
     },
     "execution_count": 5,
     "metadata": {},
     "output_type": "execute_result"
    }
   ],
   "source": [
    "s2 = s1.sort_values()\n",
    "s2"
   ]
  },
  {
   "cell_type": "code",
   "execution_count": 6,
   "metadata": {},
   "outputs": [
    {
     "data": {
      "text/plain": [
       "0    0.020631\n",
       "1   -0.234714\n",
       "2    0.679499\n",
       "3   -0.808561\n",
       "4   -0.842690\n",
       "5   -0.748893\n",
       "6    1.340362\n",
       "7   -0.288394\n",
       "8    0.398657\n",
       "9    0.611985\n",
       "dtype: float64"
      ]
     },
     "execution_count": 6,
     "metadata": {},
     "output_type": "execute_result"
    }
   ],
   "source": [
    "s3 = s2.sort_index()\n",
    "s3"
   ]
  },
  {
   "cell_type": "markdown",
   "metadata": {},
   "source": [
    "### 对于dataframe的排序"
   ]
  },
  {
   "cell_type": "code",
   "execution_count": 7,
   "metadata": {},
   "outputs": [
    {
     "data": {
      "text/html": [
       "<div>\n",
       "<style>\n",
       "    .dataframe thead tr:only-child th {\n",
       "        text-align: right;\n",
       "    }\n",
       "\n",
       "    .dataframe thead th {\n",
       "        text-align: left;\n",
       "    }\n",
       "\n",
       "    .dataframe tbody tr th {\n",
       "        vertical-align: top;\n",
       "    }\n",
       "</style>\n",
       "<table border=\"1\" class=\"dataframe\">\n",
       "  <thead>\n",
       "    <tr style=\"text-align: right;\">\n",
       "      <th></th>\n",
       "      <th>A</th>\n",
       "      <th>B</th>\n",
       "      <th>C</th>\n",
       "      <th>D</th>\n",
       "      <th>E</th>\n",
       "    </tr>\n",
       "  </thead>\n",
       "  <tbody>\n",
       "    <tr>\n",
       "      <th>0</th>\n",
       "      <td>-0.182028</td>\n",
       "      <td>-1.269134</td>\n",
       "      <td>0.176170</td>\n",
       "      <td>-0.310141</td>\n",
       "      <td>0.143061</td>\n",
       "    </tr>\n",
       "    <tr>\n",
       "      <th>1</th>\n",
       "      <td>-1.902837</td>\n",
       "      <td>-0.096436</td>\n",
       "      <td>0.501068</td>\n",
       "      <td>-0.502357</td>\n",
       "      <td>-0.468252</td>\n",
       "    </tr>\n",
       "    <tr>\n",
       "      <th>2</th>\n",
       "      <td>0.191466</td>\n",
       "      <td>0.776027</td>\n",
       "      <td>0.248983</td>\n",
       "      <td>-0.346571</td>\n",
       "      <td>-0.723798</td>\n",
       "    </tr>\n",
       "    <tr>\n",
       "      <th>3</th>\n",
       "      <td>-1.024431</td>\n",
       "      <td>0.845394</td>\n",
       "      <td>0.451431</td>\n",
       "      <td>0.248405</td>\n",
       "      <td>-1.402417</td>\n",
       "    </tr>\n",
       "    <tr>\n",
       "      <th>4</th>\n",
       "      <td>0.186352</td>\n",
       "      <td>-0.591908</td>\n",
       "      <td>-1.847516</td>\n",
       "      <td>-0.584991</td>\n",
       "      <td>0.486724</td>\n",
       "    </tr>\n",
       "    <tr>\n",
       "      <th>5</th>\n",
       "      <td>-0.350153</td>\n",
       "      <td>0.085571</td>\n",
       "      <td>0.944263</td>\n",
       "      <td>0.858381</td>\n",
       "      <td>-0.365396</td>\n",
       "    </tr>\n",
       "    <tr>\n",
       "      <th>6</th>\n",
       "      <td>-2.574432</td>\n",
       "      <td>0.256392</td>\n",
       "      <td>0.359265</td>\n",
       "      <td>-1.387980</td>\n",
       "      <td>-1.770121</td>\n",
       "    </tr>\n",
       "    <tr>\n",
       "      <th>7</th>\n",
       "      <td>0.214277</td>\n",
       "      <td>1.144565</td>\n",
       "      <td>-0.405736</td>\n",
       "      <td>0.183696</td>\n",
       "      <td>-1.525786</td>\n",
       "    </tr>\n",
       "  </tbody>\n",
       "</table>\n",
       "</div>"
      ],
      "text/plain": [
       "          A         B         C         D         E\n",
       "0 -0.182028 -1.269134  0.176170 -0.310141  0.143061\n",
       "1 -1.902837 -0.096436  0.501068 -0.502357 -0.468252\n",
       "2  0.191466  0.776027  0.248983 -0.346571 -0.723798\n",
       "3 -1.024431  0.845394  0.451431  0.248405 -1.402417\n",
       "4  0.186352 -0.591908 -1.847516 -0.584991  0.486724\n",
       "5 -0.350153  0.085571  0.944263  0.858381 -0.365396\n",
       "6 -2.574432  0.256392  0.359265 -1.387980 -1.770121\n",
       "7  0.214277  1.144565 -0.405736  0.183696 -1.525786"
      ]
     },
     "execution_count": 7,
     "metadata": {},
     "output_type": "execute_result"
    }
   ],
   "source": [
    "df1 = DataFrame(np.random.randn(40).reshape(8,5), columns=['A','B','C','D','E'])\n",
    "df1"
   ]
  },
  {
   "cell_type": "markdown",
   "metadata": {},
   "source": [
    "dataframe有columns有index，对一个dataframe进行排序。\n",
    "\n",
    "- 按照一个columns做排序。多个columns，需要指定其中一个。"
   ]
  },
  {
   "cell_type": "code",
   "execution_count": 8,
   "metadata": {},
   "outputs": [
    {
     "data": {
      "text/plain": [
       "6   -2.574432\n",
       "1   -1.902837\n",
       "3   -1.024431\n",
       "5   -0.350153\n",
       "0   -0.182028\n",
       "4    0.186352\n",
       "2    0.191466\n",
       "7    0.214277\n",
       "Name: A, dtype: float64"
      ]
     },
     "execution_count": 8,
     "metadata": {},
     "output_type": "execute_result"
    }
   ],
   "source": [
    "df1['A'].sort_values()"
   ]
  },
  {
   "cell_type": "markdown",
   "metadata": {},
   "source": [
    "返回了一个series，这不是我们想要的。\n",
    "\n",
    "我们想要的是联动的以a这一列为标准返回一个dataframe"
   ]
  },
  {
   "cell_type": "code",
   "execution_count": 9,
   "metadata": {},
   "outputs": [
    {
     "data": {
      "text/html": [
       "<div>\n",
       "<style>\n",
       "    .dataframe thead tr:only-child th {\n",
       "        text-align: right;\n",
       "    }\n",
       "\n",
       "    .dataframe thead th {\n",
       "        text-align: left;\n",
       "    }\n",
       "\n",
       "    .dataframe tbody tr th {\n",
       "        vertical-align: top;\n",
       "    }\n",
       "</style>\n",
       "<table border=\"1\" class=\"dataframe\">\n",
       "  <thead>\n",
       "    <tr style=\"text-align: right;\">\n",
       "      <th></th>\n",
       "      <th>A</th>\n",
       "      <th>B</th>\n",
       "      <th>C</th>\n",
       "      <th>D</th>\n",
       "      <th>E</th>\n",
       "    </tr>\n",
       "  </thead>\n",
       "  <tbody>\n",
       "    <tr>\n",
       "      <th>7</th>\n",
       "      <td>0.214277</td>\n",
       "      <td>1.144565</td>\n",
       "      <td>-0.405736</td>\n",
       "      <td>0.183696</td>\n",
       "      <td>-1.525786</td>\n",
       "    </tr>\n",
       "    <tr>\n",
       "      <th>2</th>\n",
       "      <td>0.191466</td>\n",
       "      <td>0.776027</td>\n",
       "      <td>0.248983</td>\n",
       "      <td>-0.346571</td>\n",
       "      <td>-0.723798</td>\n",
       "    </tr>\n",
       "    <tr>\n",
       "      <th>4</th>\n",
       "      <td>0.186352</td>\n",
       "      <td>-0.591908</td>\n",
       "      <td>-1.847516</td>\n",
       "      <td>-0.584991</td>\n",
       "      <td>0.486724</td>\n",
       "    </tr>\n",
       "    <tr>\n",
       "      <th>0</th>\n",
       "      <td>-0.182028</td>\n",
       "      <td>-1.269134</td>\n",
       "      <td>0.176170</td>\n",
       "      <td>-0.310141</td>\n",
       "      <td>0.143061</td>\n",
       "    </tr>\n",
       "    <tr>\n",
       "      <th>5</th>\n",
       "      <td>-0.350153</td>\n",
       "      <td>0.085571</td>\n",
       "      <td>0.944263</td>\n",
       "      <td>0.858381</td>\n",
       "      <td>-0.365396</td>\n",
       "    </tr>\n",
       "    <tr>\n",
       "      <th>3</th>\n",
       "      <td>-1.024431</td>\n",
       "      <td>0.845394</td>\n",
       "      <td>0.451431</td>\n",
       "      <td>0.248405</td>\n",
       "      <td>-1.402417</td>\n",
       "    </tr>\n",
       "    <tr>\n",
       "      <th>1</th>\n",
       "      <td>-1.902837</td>\n",
       "      <td>-0.096436</td>\n",
       "      <td>0.501068</td>\n",
       "      <td>-0.502357</td>\n",
       "      <td>-0.468252</td>\n",
       "    </tr>\n",
       "    <tr>\n",
       "      <th>6</th>\n",
       "      <td>-2.574432</td>\n",
       "      <td>0.256392</td>\n",
       "      <td>0.359265</td>\n",
       "      <td>-1.387980</td>\n",
       "      <td>-1.770121</td>\n",
       "    </tr>\n",
       "  </tbody>\n",
       "</table>\n",
       "</div>"
      ],
      "text/plain": [
       "          A         B         C         D         E\n",
       "7  0.214277  1.144565 -0.405736  0.183696 -1.525786\n",
       "2  0.191466  0.776027  0.248983 -0.346571 -0.723798\n",
       "4  0.186352 -0.591908 -1.847516 -0.584991  0.486724\n",
       "0 -0.182028 -1.269134  0.176170 -0.310141  0.143061\n",
       "5 -0.350153  0.085571  0.944263  0.858381 -0.365396\n",
       "3 -1.024431  0.845394  0.451431  0.248405 -1.402417\n",
       "1 -1.902837 -0.096436  0.501068 -0.502357 -0.468252\n",
       "6 -2.574432  0.256392  0.359265 -1.387980 -1.770121"
      ]
     },
     "execution_count": 9,
     "metadata": {},
     "output_type": "execute_result"
    }
   ],
   "source": [
    "df2 = df1.sort_values('A',ascending=False)\n",
    "df2"
   ]
  },
  {
   "cell_type": "code",
   "execution_count": 10,
   "metadata": {},
   "outputs": [
    {
     "data": {
      "text/html": [
       "<div>\n",
       "<style>\n",
       "    .dataframe thead tr:only-child th {\n",
       "        text-align: right;\n",
       "    }\n",
       "\n",
       "    .dataframe thead th {\n",
       "        text-align: left;\n",
       "    }\n",
       "\n",
       "    .dataframe tbody tr th {\n",
       "        vertical-align: top;\n",
       "    }\n",
       "</style>\n",
       "<table border=\"1\" class=\"dataframe\">\n",
       "  <thead>\n",
       "    <tr style=\"text-align: right;\">\n",
       "      <th></th>\n",
       "      <th>A</th>\n",
       "      <th>B</th>\n",
       "      <th>C</th>\n",
       "      <th>D</th>\n",
       "      <th>E</th>\n",
       "    </tr>\n",
       "  </thead>\n",
       "  <tbody>\n",
       "    <tr>\n",
       "      <th>0</th>\n",
       "      <td>-0.182028</td>\n",
       "      <td>-1.269134</td>\n",
       "      <td>0.176170</td>\n",
       "      <td>-0.310141</td>\n",
       "      <td>0.143061</td>\n",
       "    </tr>\n",
       "    <tr>\n",
       "      <th>1</th>\n",
       "      <td>-1.902837</td>\n",
       "      <td>-0.096436</td>\n",
       "      <td>0.501068</td>\n",
       "      <td>-0.502357</td>\n",
       "      <td>-0.468252</td>\n",
       "    </tr>\n",
       "    <tr>\n",
       "      <th>2</th>\n",
       "      <td>0.191466</td>\n",
       "      <td>0.776027</td>\n",
       "      <td>0.248983</td>\n",
       "      <td>-0.346571</td>\n",
       "      <td>-0.723798</td>\n",
       "    </tr>\n",
       "    <tr>\n",
       "      <th>3</th>\n",
       "      <td>-1.024431</td>\n",
       "      <td>0.845394</td>\n",
       "      <td>0.451431</td>\n",
       "      <td>0.248405</td>\n",
       "      <td>-1.402417</td>\n",
       "    </tr>\n",
       "    <tr>\n",
       "      <th>4</th>\n",
       "      <td>0.186352</td>\n",
       "      <td>-0.591908</td>\n",
       "      <td>-1.847516</td>\n",
       "      <td>-0.584991</td>\n",
       "      <td>0.486724</td>\n",
       "    </tr>\n",
       "    <tr>\n",
       "      <th>5</th>\n",
       "      <td>-0.350153</td>\n",
       "      <td>0.085571</td>\n",
       "      <td>0.944263</td>\n",
       "      <td>0.858381</td>\n",
       "      <td>-0.365396</td>\n",
       "    </tr>\n",
       "    <tr>\n",
       "      <th>6</th>\n",
       "      <td>-2.574432</td>\n",
       "      <td>0.256392</td>\n",
       "      <td>0.359265</td>\n",
       "      <td>-1.387980</td>\n",
       "      <td>-1.770121</td>\n",
       "    </tr>\n",
       "    <tr>\n",
       "      <th>7</th>\n",
       "      <td>0.214277</td>\n",
       "      <td>1.144565</td>\n",
       "      <td>-0.405736</td>\n",
       "      <td>0.183696</td>\n",
       "      <td>-1.525786</td>\n",
       "    </tr>\n",
       "  </tbody>\n",
       "</table>\n",
       "</div>"
      ],
      "text/plain": [
       "          A         B         C         D         E\n",
       "0 -0.182028 -1.269134  0.176170 -0.310141  0.143061\n",
       "1 -1.902837 -0.096436  0.501068 -0.502357 -0.468252\n",
       "2  0.191466  0.776027  0.248983 -0.346571 -0.723798\n",
       "3 -1.024431  0.845394  0.451431  0.248405 -1.402417\n",
       "4  0.186352 -0.591908 -1.847516 -0.584991  0.486724\n",
       "5 -0.350153  0.085571  0.944263  0.858381 -0.365396\n",
       "6 -2.574432  0.256392  0.359265 -1.387980 -1.770121\n",
       "7  0.214277  1.144565 -0.405736  0.183696 -1.525786"
      ]
     },
     "execution_count": 10,
     "metadata": {},
     "output_type": "execute_result"
    }
   ],
   "source": [
    "df2.sort_index()"
   ]
  },
  {
   "cell_type": "markdown",
   "metadata": {},
   "source": [
    "#### 课后作业\n",
    "\n",
    "- 输入是一个csv文件: movie_meta.csv\n",
    "- 输出是一个新的csv文件。只要四列 index imdb_score director_name movie_title\n",
    "\n",
    ">要求只用一行代码实现"
   ]
  },
  {
   "cell_type": "code",
   "execution_count": 11,
   "metadata": {
    "collapsed": true
   },
   "outputs": [],
   "source": [
    "new_csv= pd.read_csv('./DataSource/movie_metadata.csv')[['director_name','imdb_score','movie_title']].sort_values('imdb_score',ascending=False).to_csv('./DataSource/new_movie.csv')"
   ]
  }
 ],
 "metadata": {
  "kernelspec": {
   "display_name": "Python 3",
   "language": "python",
   "name": "python3"
  },
  "language_info": {
   "codemirror_mode": {
    "name": "ipython",
    "version": 3
   },
   "file_extension": ".py",
   "mimetype": "text/x-python",
   "name": "python",
   "nbconvert_exporter": "python",
   "pygments_lexer": "ipython3",
   "version": "3.6.3"
  }
 },
 "nbformat": 4,
 "nbformat_minor": 2
}
