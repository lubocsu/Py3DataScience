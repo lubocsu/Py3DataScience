{
 "cells": [
  {
   "cell_type": "markdown",
   "metadata": {},
   "source": [
    "### 快速创建数组"
   ]
  },
  {
   "cell_type": "code",
   "execution_count": 1,
   "metadata": {},
   "outputs": [
    {
     "name": "stdout",
     "output_type": "stream",
     "text": [
      "[-0.96960944  1.23863312 -1.54224062  0.65512986  1.11947568 -0.99210472\n",
      "  0.26603824  0.73106725  0.87439784 -1.23550994]\n",
      "********************\n",
      "[[6 9 1]\n",
      " [0 6 7]]\n"
     ]
    }
   ],
   "source": [
    "import numpy as np\n",
    "\n",
    "'''\n",
    "快速创建一个随机数组\n",
    "randn(10) 创建一个长度为10，里面数值符合“标准正态”分布的数组,数值为float\n",
    "'''\n",
    "print(np.random.randn(10))\n",
    "\n",
    "'''\n",
    "ranint 会返回包含0到给定参数数字范围之内的一个随机整数\n",
    "size 指定创建的是数组的shape,将创建指定shape,并用随机数填充\n",
    "'''\n",
    "print(\"*\"*20)\n",
    "print(np.random.randint(10, size=(2,3)))"
   ]
  },
  {
   "cell_type": "code",
   "execution_count": 2,
   "metadata": {},
   "outputs": [
    {
     "name": "stdout",
     "output_type": "stream",
     "text": [
      "[5 2 7 4 9 1 3 1 6 5 8 5 5 4 1 1 9 0 9 5]\n",
      "********************\n",
      "[[5 2 7 4 9]\n",
      " [1 3 1 6 5]\n",
      " [8 5 5 4 1]\n",
      " [1 9 0 9 5]]\n"
     ]
    }
   ],
   "source": [
    "# 一维数组 size 为 20\n",
    "one = np.random.randint(10, size=20)\n",
    "print(one)\n",
    "\n",
    "# 通过reshape方法将一维数组改为多维数组\n",
    "print(\"*\"*20)\n",
    "print(one.reshape(4,5))"
   ]
  },
  {
   "cell_type": "markdown",
   "metadata": {},
   "source": [
    "### 数组运算"
   ]
  },
  {
   "cell_type": "code",
   "execution_count": 3,
   "metadata": {},
   "outputs": [
    {
     "name": "stdout",
     "output_type": "stream",
     "text": [
      "[[4 3 2 8 7]\n",
      " [2 6 9 6 1]\n",
      " [7 9 4 9 6]\n",
      " [8 4 2 6 9]] \n",
      "************\n",
      " [[5 6 9 2 2]\n",
      " [8 2 9 7 9]\n",
      " [3 8 4 0 7]\n",
      " [6 3 9 3 6]]\n",
      "********************\n",
      "[[ 9  9 11 10  9]\n",
      " [10  8 18 13 10]\n",
      " [10 17  8  9 13]\n",
      " [14  7 11  9 15]]\n",
      "********************\n",
      "[[-1 -3 -7  6  5]\n",
      " [-6  4  0 -1 -8]\n",
      " [ 4  1  0  9 -1]\n",
      " [ 2  1 -7  3  3]]\n"
     ]
    }
   ],
   "source": [
    "a = np.random.randint(10, size=20).reshape(4,5)\n",
    "\n",
    "b = np.random.randint(10, size=20).reshape(4,5)\n",
    "\n",
    "print(a,'\\n************\\n',b)\n",
    "\n",
    "# 数组的加法是对应位置元素的算数和。\n",
    "# 数组的减法是对应位置元素相减得到的值。\n",
    "print(\"*\"*20)\n",
    "print(a + b)\n",
    "print(\"*\"*20)\n",
    "print(a - b)"
   ]
  },
  {
   "cell_type": "code",
   "execution_count": 4,
   "metadata": {},
   "outputs": [
    {
     "name": "stdout",
     "output_type": "stream",
     "text": [
      "[[20 18 18 16 14]\n",
      " [16 12 81 42  9]\n",
      " [21 72 16  0 42]\n",
      " [48 12 18 18 54]]\n",
      "********************\n",
      "[[0.8        0.5        0.22222222 4.         3.5       ]\n",
      " [0.25       3.         1.         0.85714286 0.11111111]\n",
      " [2.33333333 1.125      1.                inf 0.85714286]\n",
      " [1.33333333 1.33333333 0.22222222 2.         1.5       ]]\n"
     ]
    },
    {
     "name": "stderr",
     "output_type": "stream",
     "text": [
      "/Users/mtianyan/anaconda3/lib/python3.6/site-packages/ipykernel_launcher.py:9: RuntimeWarning: divide by zero encountered in true_divide\n",
      "  if __name__ == '__main__':\n"
     ]
    }
   ],
   "source": [
    "# 乘法也是对应位置元素的乘积\n",
    "print(a * b)\n",
    "\n",
    "'''\n",
    "除法会报warning，不会停止运算，因为有的除数，值为0.\n",
    "如果遇到除0，会给一个无限大的标志inf\n",
    "'''\n",
    "print(\"*\"*20)\n",
    "print(a / b)"
   ]
  },
  {
   "cell_type": "markdown",
   "metadata": {},
   "source": [
    "### 矩阵创建"
   ]
  },
  {
   "cell_type": "code",
   "execution_count": 5,
   "metadata": {},
   "outputs": [
    {
     "name": "stdout",
     "output_type": "stream",
     "text": [
      "[[1 2 3]\n",
      " [4 5 6]]\n",
      "********************\n"
     ]
    },
    {
     "data": {
      "text/plain": [
       "matrix([[4, 3, 2, 8, 7],\n",
       "        [2, 6, 9, 6, 1],\n",
       "        [7, 9, 4, 9, 6],\n",
       "        [8, 4, 2, 6, 9]])"
      ]
     },
     "execution_count": 5,
     "metadata": {},
     "output_type": "execute_result"
    }
   ],
   "source": [
    "# 创建二维矩阵\n",
    "print(np.mat([[1,2,3],[4,5,6]]))\n",
    "\n",
    "'''\n",
    "矩阵和数组之间可以进行相互转化\n",
    "直接传入数组a，即可根据数组创建对应的矩阵\n",
    "'''\n",
    "print(\"*\"*20)\n",
    "np.mat(a)"
   ]
  },
  {
   "cell_type": "markdown",
   "metadata": {},
   "source": [
    "## 矩阵运算"
   ]
  },
  {
   "cell_type": "code",
   "execution_count": 6,
   "metadata": {},
   "outputs": [
    {
     "name": "stdout",
     "output_type": "stream",
     "text": [
      "[[4 3 2 8 7]\n",
      " [2 6 9 6 1]\n",
      " [7 9 4 9 6]\n",
      " [8 4 2 6 9]]\n",
      "********************\n",
      "[[5 6 9 2 2]\n",
      " [8 2 9 7 9]\n",
      " [3 8 4 0 7]\n",
      " [6 3 9 3 6]]\n",
      "********************\n",
      "[[ 9  9 11 10  9]\n",
      " [10  8 18 13 10]\n",
      " [10 17  8  9 13]\n",
      " [14  7 11  9 15]]\n",
      "********************\n"
     ]
    },
    {
     "data": {
      "text/plain": [
       "matrix([[-1, -3, -7,  6,  5],\n",
       "        [-6,  4,  0, -1, -8],\n",
       "        [ 4,  1,  0,  9, -1],\n",
       "        [ 2,  1, -7,  3,  3]])"
      ]
     },
     "execution_count": 6,
     "metadata": {},
     "output_type": "execute_result"
    }
   ],
   "source": [
    "A = np.mat(a)\n",
    "B = np.mat(b)\n",
    "\n",
    "print(A)\n",
    "print(\"*\"*20)\n",
    "print(B)\n",
    "\n",
    "'''\n",
    "矩阵的加法运算和减法运算仍然是通过对应位置元素的加减产生新的矩阵,与数组相同。\n",
    "'''\n",
    "print(\"*\"*20)\n",
    "print(A + B)\n",
    "print(\"*\"*20)\n",
    "A - B"
   ]
  },
  {
   "cell_type": "code",
   "execution_count": 7,
   "metadata": {},
   "outputs": [],
   "source": [
    "# 此时如果直接运行`A*B` 那么会报错。因为矩阵相乘，A的行数必须等于B的列数。\n",
    "# A * B"
   ]
  },
  {
   "cell_type": "code",
   "execution_count": 8,
   "metadata": {},
   "outputs": [
    {
     "name": "stdout",
     "output_type": "stream",
     "text": [
      "[[5 6 9 2]\n",
      " [2 8 2 9]\n",
      " [7 9 3 8]\n",
      " [4 0 7 6]\n",
      " [3 9 3 6]]\n"
     ]
    },
    {
     "data": {
      "text/plain": [
       "matrix([[ 93, 129, 125, 141],\n",
       "        [112, 150, 102, 172],\n",
       "        [135, 204, 174, 217],\n",
       "        [113, 179, 155, 158]])"
      ]
     },
     "execution_count": 8,
     "metadata": {},
     "output_type": "execute_result"
    }
   ],
   "source": [
    "B_reshape = B.reshape(5,4)\n",
    "\n",
    "print(B_reshape)\n",
    "\n",
    "A *  B.reshape(5,4)"
   ]
  },
  {
   "cell_type": "markdown",
   "metadata": {},
   "source": [
    "## Array常用函数\n"
   ]
  },
  {
   "cell_type": "code",
   "execution_count": 9,
   "metadata": {},
   "outputs": [
    {
     "name": "stdout",
     "output_type": "stream",
     "text": [
      "[[7 7 8 1 5]\n",
      " [9 9 0 5 3]\n",
      " [6 1 8 5 2]\n",
      " [8 7 3 2 5]]\n",
      "**********\n",
      "[0 1 2 3 5 6 7 8 9]\n",
      "**********\n",
      "[30 24 19 13 15]\n",
      "**********\n",
      "[28 26 22 25]\n",
      "**********\n",
      "28\n",
      "**********\n"
     ]
    },
    {
     "data": {
      "text/plain": [
       "30"
      ]
     },
     "execution_count": 9,
     "metadata": {},
     "output_type": "execute_result"
    }
   ],
   "source": [
    "a = np.random.randint(10, size=20).reshape(4,5)\n",
    "print(a)\n",
    "\n",
    "# unique 返回数组中那些值是唯一的\n",
    "print(\"*\"*10)\n",
    "print(np.unique(a))\n",
    "\n",
    "# sum 对于数组中每一列元素进行求和\n",
    "print(\"*\"*10)\n",
    "print(sum(a))\n",
    "\n",
    "# sum 对于数组中每一行元素进行求和\n",
    "print(\"*\"*10)\n",
    "print(np.sum(a,axis=1))\n",
    "\n",
    "# 对于指定行进行求和: 对于第一行进行求和\n",
    "print(\"*\"*10)\n",
    "print(sum(a[0]))\n",
    "\n",
    "# 对于指定列进行求和: 下面是对第一列进行求和\n",
    "print(\"*\"*10)\n",
    "sum(a[:,0])"
   ]
  },
  {
   "cell_type": "code",
   "execution_count": 10,
   "metadata": {},
   "outputs": [
    {
     "name": "stdout",
     "output_type": "stream",
     "text": [
      "9\n",
      "8\n",
      "9\n",
      "9\n",
      "********************\n",
      "9\n",
      "[9 9 8 5 5]\n",
      "[8 9 8 8]\n"
     ]
    }
   ],
   "source": [
    "# max 函数 查看数组中的最大值\n",
    "print(a.max())\n",
    "\n",
    "# 求第0行的最大值\n",
    "print(max(a[0]))\n",
    "\n",
    "# 求第1列的最大值\n",
    "print(max(a[:,1]))\n",
    "print(a[:,1].max())\n",
    "\n",
    "# np.max()\n",
    "print(\"*\"*20)\n",
    "print(np.max(a))\n",
    "print(np.max(a,axis=0))\n",
    "print(np.max(a,axis=1))"
   ]
  }
 ],
 "metadata": {
  "kernelspec": {
   "display_name": "Python 3",
   "language": "python",
   "name": "python3"
  },
  "language_info": {
   "codemirror_mode": {
    "name": "ipython",
    "version": 3
   },
   "file_extension": ".py",
   "mimetype": "text/x-python",
   "name": "python",
   "nbconvert_exporter": "python",
   "pygments_lexer": "ipython3",
   "version": "3.6.5"
  }
 },
 "nbformat": 4,
 "nbformat_minor": 2
}
