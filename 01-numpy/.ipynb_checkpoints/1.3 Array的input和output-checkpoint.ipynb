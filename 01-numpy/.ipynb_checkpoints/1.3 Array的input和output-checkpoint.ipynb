{
 "cells": [
  {
   "cell_type": "markdown",
   "metadata": {},
   "source": [
    "Array的`input`和`output`类似于我们在python中去序列化一个对象\n",
    "\n",
    "`pickle` 进行序列化"
   ]
  },
  {
   "cell_type": "code",
   "execution_count": 1,
   "metadata": {},
   "outputs": [
    {
     "name": "stdout",
     "output_type": "stream",
     "text": [
      "[0 1 2 3 4 5 6 7 8 9]\n",
      "********************\n",
      "1.1 数组简介.ipynb               mtianyan.pkl\r\n",
      "1.2 数组与矩阵运算.ipynb         one_array.npy\r\n",
      "1.3 Array的input和output.ipynb   two_array.npz\r\n"
     ]
    }
   ],
   "source": [
    "import pickle\n",
    "import numpy as np\n",
    "\n",
    "x = np.arange(10)\n",
    "print(x)\n",
    "print(\"*\"*20)\n",
    "\n",
    "'''\n",
    "使用传统的pickle序列化numpy array\n",
    "打开一个文件: 以二进制方式打开，因为序列化后的对象数据是二进制\n",
    "'''\n",
    "f = open('mtianyan.pkl', 'wb')\n",
    "# dump可以将x对象,dump进f中。\n",
    "pickle.dump(x,f)\n",
    "!ls"
   ]
  },
  {
   "cell_type": "code",
   "execution_count": 2,
   "metadata": {},
   "outputs": [
    {
     "data": {
      "text/plain": [
       "array([0, 1, 2, 3, 4, 5, 6, 7, 8, 9])"
      ]
     },
     "execution_count": 2,
     "metadata": {},
     "output_type": "execute_result"
    }
   ],
   "source": [
    "# 反序列化\n",
    "f = open('mtianyan.pkl','rb')\n",
    "pickle.load(f)"
   ]
  },
  {
   "cell_type": "markdown",
   "metadata": {},
   "source": [
    "### Numpy提供了更简单的方法 save load"
   ]
  },
  {
   "cell_type": "code",
   "execution_count": 3,
   "metadata": {},
   "outputs": [
    {
     "name": "stdout",
     "output_type": "stream",
     "text": [
      "1.1 数组简介.ipynb               mtianyan.pkl\r\n",
      "1.2 数组与矩阵运算.ipynb         one_array.npy\r\n",
      "1.3 Array的input和output.ipynb   two_array.npz\r\n"
     ]
    },
    {
     "data": {
      "text/plain": [
       "array([0, 1, 2, 3, 4, 5, 6, 7, 8, 9])"
      ]
     },
     "execution_count": 3,
     "metadata": {},
     "output_type": "execute_result"
    }
   ],
   "source": [
    "# 序列化\n",
    "np.save(\"one_array\",x)\n",
    "!ls\n",
    "# 反序列化\n",
    "np.load(\"one_array.npy\")"
   ]
  },
  {
   "cell_type": "code",
   "execution_count": 4,
   "metadata": {},
   "outputs": [
    {
     "name": "stdout",
     "output_type": "stream",
     "text": [
      "[0 1 2 3 4 5 6 7 8 9]\n",
      "********************\n",
      "[ 0  1  2  3  4  5  6  7  8  9 10 11 12 13 14 15 16 17 18 19]\n",
      "1.1 数组简介.ipynb               mtianyan.pkl\n",
      "1.2 数组与矩阵运算.ipynb         one_array.npy\n",
      "1.3 Array的input和output.ipynb   two_array.npz\n",
      "********************\n",
      "[0 1 2 3 4 5 6 7 8 9]\n"
     ]
    },
    {
     "data": {
      "text/plain": [
       "array([ 0,  1,  2,  3,  4,  5,  6,  7,  8,  9, 10, 11, 12, 13, 14, 15, 16,\n",
       "       17, 18, 19])"
      ]
     },
     "execution_count": 4,
     "metadata": {},
     "output_type": "execute_result"
    }
   ],
   "source": [
    "print(x)\n",
    "print(\"*\"*20)\n",
    "y = np.arange(20)\n",
    "print(y)\n",
    "\n",
    "'''\n",
    "有多个数组想要序列化,使用 savez 进行压缩\n",
    "'''\n",
    "y = np.savez('two_array',a=x,b=y)\n",
    "!ls\n",
    "z = np.load('two_array.npz')\n",
    "print(\"*\"*20)\n",
    "print(z['a'])\n",
    "z['b']"
   ]
  }
 ],
 "metadata": {
  "kernelspec": {
   "display_name": "Python 3",
   "language": "python",
   "name": "python3"
  },
  "language_info": {
   "codemirror_mode": {
    "name": "ipython",
    "version": 3
   },
   "file_extension": ".py",
   "mimetype": "text/x-python",
   "name": "python",
   "nbconvert_exporter": "python",
   "pygments_lexer": "ipython3",
   "version": "3.6.5"
  }
 },
 "nbformat": 4,
 "nbformat_minor": 2
}
