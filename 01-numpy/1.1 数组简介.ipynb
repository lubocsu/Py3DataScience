{
 "cells": [
  {
   "cell_type": "markdown",
   "metadata": {},
   "source": [
    "### 数组的创建和访问"
   ]
  },
  {
   "cell_type": "code",
   "execution_count": 1,
   "metadata": {},
   "outputs": [
    {
     "name": "stdout",
     "output_type": "stream",
     "text": [
      "[1, 2, 3, 4]\n",
      "[1 2 3 4]\n"
     ]
    }
   ],
   "source": [
    "import numpy as np\n",
    "\n",
    "# create from python list\n",
    "list_1 = [1,2,3,4]\n",
    "print(list_1)\n",
    "\n",
    "# 通过 `np.array` 将我们的list作为输入参数创建一维数组。\n",
    "array_1 = np.array(list_1)\n",
    "print(array_1)"
   ]
  },
  {
   "cell_type": "code",
   "execution_count": 2,
   "metadata": {},
   "outputs": [
    {
     "name": "stdout",
     "output_type": "stream",
     "text": [
      "[[1 2 3 4]\n",
      " [5 6 7 8]]\n"
     ]
    }
   ],
   "source": [
    "list_2 = [5,6,7,8]\n",
    "# 通过创建一个将list_1,list_2作为元素的list来实现创建二维数组（矩阵）。\n",
    "array_2 = np.array([list_1,list_2])\n",
    "\n",
    "print(array_2)"
   ]
  },
  {
   "cell_type": "code",
   "execution_count": 3,
   "metadata": {},
   "outputs": [
    {
     "name": "stdout",
     "output_type": "stream",
     "text": [
      "(2, 4)\n",
      "8\n",
      "int64\n"
     ]
    }
   ],
   "source": [
    "'''\n",
    "下面代码演示如何获取一些数组的属性\n",
    "- shape 两行四列\n",
    "- size  返回整个数组中元素的个数\n",
    "- dtype 返回数组中元素的数据类型\n",
    "'''\n",
    "print(array_2.shape)\n",
    "print(array_2.size)\n",
    "print(array_2.dtype)"
   ]
  },
  {
   "cell_type": "code",
   "execution_count": 4,
   "metadata": {},
   "outputs": [
    {
     "name": "stdout",
     "output_type": "stream",
     "text": [
      "float64\n"
     ]
    }
   ],
   "source": [
    "# 数据类型不一致时会进行隐式转换，取精确度最高的位\n",
    "array_3 = np.array([[1.0,2,3],[4.0,5,6]])\n",
    "\n",
    "print(array_3.dtype)"
   ]
  },
  {
   "cell_type": "code",
   "execution_count": 5,
   "metadata": {},
   "outputs": [
    {
     "name": "stdout",
     "output_type": "stream",
     "text": [
      "[1 3 5 7 9]\n"
     ]
    }
   ],
   "source": [
    "# 下面代码通过arange 来创建Numpy数组: 可指定起始点，终点，步长\n",
    "array_4 = np.arange(1,10,2)\n",
    "\n",
    "print(array_4)"
   ]
  },
  {
   "cell_type": "code",
   "execution_count": 6,
   "metadata": {},
   "outputs": [
    {
     "name": "stdout",
     "output_type": "stream",
     "text": [
      "[0. 0. 0. 0. 0.]\n",
      "[[0. 0. 0.]\n",
      " [0. 0. 0.]]\n",
      "**********\n",
      "[[1. 0. 0. 0. 0.]\n",
      " [0. 1. 0. 0. 0.]\n",
      " [0. 0. 1. 0. 0.]\n",
      " [0. 0. 0. 1. 0.]\n",
      " [0. 0. 0. 0. 1.]]\n",
      "float64\n"
     ]
    }
   ],
   "source": [
    "# 零矩阵\n",
    "array_5 = np.zeros(5)\n",
    "print(array_5) \n",
    "\n",
    "# 传入指定shape的list形状返回指定shape的矩阵\n",
    "array_6 = np.zeros([2,3])\n",
    "print(array_6)\n",
    "print(\"*\"*10)\n",
    "\n",
    "# 通过 np.eye 产生单位矩阵\n",
    "eye = np.eye(5)\n",
    "print(eye)\n",
    "print(eye.dtype)"
   ]
  },
  {
   "cell_type": "markdown",
   "metadata": {},
   "source": [
    ">可以看到零矩阵和单位矩阵，都是浮点类型的。"
   ]
  },
  {
   "cell_type": "code",
   "execution_count": 7,
   "metadata": {},
   "outputs": [
    {
     "name": "stdout",
     "output_type": "stream",
     "text": [
      "[1 2 3 4 5 6 7 8 9]\n",
      "3\n",
      "[2 3 4 5]\n"
     ]
    }
   ],
   "source": [
    "a = np.arange(1,10)\n",
    "print(a)\n",
    "# 访问数组的元素\n",
    "print(a[2])\n",
    "# 类似于python list的切片\n",
    "print(a[1:5])"
   ]
  },
  {
   "cell_type": "code",
   "execution_count": 8,
   "metadata": {},
   "outputs": [
    {
     "name": "stdout",
     "output_type": "stream",
     "text": [
      "[[1 2 3]\n",
      " [4 5 6]]\n",
      "(2, 3)\n"
     ]
    }
   ],
   "source": [
    "# (2,3)矩阵\n",
    "b = np.array([[1,2,3],[4,5,6]])\n",
    "print(b)\n",
    "print(b.shape)"
   ]
  },
  {
   "cell_type": "code",
   "execution_count": 9,
   "metadata": {},
   "outputs": [
    {
     "name": "stdout",
     "output_type": "stream",
     "text": [
      "6\n",
      "6\n"
     ]
    }
   ],
   "source": [
    "# 访问二维数组中的元素，指定你要访问第几行第几列,索引从0开始\n",
    "print(b[1][2])\n",
    "print(b[1,2])"
   ]
  },
  {
   "cell_type": "code",
   "execution_count": 10,
   "metadata": {},
   "outputs": [
    {
     "name": "stdout",
     "output_type": "stream",
     "text": [
      "[[1 2 3]\n",
      " [4 5 6]\n",
      " [7 8 9]]\n",
      "**********\n",
      "[[2 3]\n",
      " [5 6]]\n"
     ]
    }
   ],
   "source": [
    "c = np.array([[1,2,3],[4,5,6],[7,8,9]])\n",
    "print(c)\n",
    "\n",
    "'''\n",
    "对于二维数组的一个切片：\n",
    "- 前面 `:2` 代表我们需要的行的范围(我们从第0行到第二行。也就是0 1两行)\n",
    "- 后面 `1:` 代表列数，从第一列开始到最后。那么第0列就没了。\n",
    "'''\n",
    "print(\"*\"*10)\n",
    "print(c[:2,1:])"
   ]
  }
 ],
 "metadata": {
  "kernelspec": {
   "display_name": "Python 3",
   "language": "python",
   "name": "python3"
  },
  "language_info": {
   "codemirror_mode": {
    "name": "ipython",
    "version": 3
   },
   "file_extension": ".py",
   "mimetype": "text/x-python",
   "name": "python",
   "nbconvert_exporter": "python",
   "pygments_lexer": "ipython3",
   "version": "3.6.5"
  }
 },
 "nbformat": 4,
 "nbformat_minor": 2
}
